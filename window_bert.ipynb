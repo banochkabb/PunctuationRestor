{
 "cells": [
  {
   "cell_type": "code",
   "execution_count": 1,
   "id": "c76061d3",
   "metadata": {},
   "outputs": [],
   "source": [
    "import os\n",
    "\n",
    "import numpy as np\n",
    "import torch\n",
    "from torch.utils.data import Dataset, DataLoader\n",
    "from tqdm import tqdm\n",
    "from torch.nn.utils.rnn import pad_sequence\n",
    "N=2048\n",
    "class BertDataset(Dataset):\n",
    "    def __init__(self, path, path_targets, is_train=False, pred_len=N):\n",
    "\n",
    "        self.is_train = is_train\n",
    "        self.encoded_texts = [0] * N\n",
    "        self.targets = [-1] * N\n",
    "        self.pred_len = pred_len\n",
    "        with open(path, 'r') as f:\n",
    "            for text in f.readlines():\n",
    "                self.encoded_texts.extend(list(map(int, text.split())))\n",
    "        with open(path_targets, 'r') as ft:\n",
    "            for text in ft.readlines():\n",
    "                self.targets.extend(list(map(int, text.split())))\n",
    "        self.encoded_texts.extend([0] * N)\n",
    "        self.targets.extend([-1] * N)\n",
    "        idxs = []\n",
    "        \n",
    "        for i, (text, target) in enumerate(zip(self.encoded_texts, self.targets)):\n",
    "            if target >= 1:\n",
    "                idxs.append(i)\n",
    "                self.targets[i - 1] = target\n",
    "\n",
    "        self.encoded_texts = np.delete(self.encoded_texts, idxs)\n",
    "        self.targets = np.delete(self.targets, idxs)\n",
    "\n",
    "            \n",
    "    def __getitem__(self, idx):\n",
    "        start_idx = idx * self.pred_len\n",
    "        start_idx = max(0, start_idx)\n",
    "        end_idx = start_idx + N\n",
    "        return torch.LongTensor(self.encoded_texts[start_idx: end_idx]),\\\n",
    "               torch.LongTensor(self.targets[start_idx: end_idx])\n",
    "\n",
    "    def __len__(self):\n",
    "        return (len(self.encoded_texts) - 2048)//self.pred_len - 1\n",
    "\n",
    "\n",
    "def collate(batch):\n",
    "    texts, targets = zip(*batch)\n",
    "    return torch.stack(texts), torch.stack(targets)\n",
    "\n",
    "def get_datasets(pred_len):\n",
    "    train_dataset = BertDataset('processed_train_words.txt', 'processed_train_targets.txt', is_train=True)\n",
    "    valid_dataset = BertDataset('processed_val_words.txt', 'processed_val_targets.txt', pred_len=pred_len)\n",
    "    return train_dataset, valid_dataset\n",
    "\n",
    "\n",
    "def get_data_loaders(train_dataset, valid_dataset):\n",
    "    train_loader = DataLoader(train_dataset, batch_size=2, num_workers=0, collate_fn=collate, shuffle=True)\n",
    "    valid_loader = DataLoader(valid_dataset, batch_size=4, collate_fn=collate)\n",
    "    return train_loader, valid_loader"
   ]
  },
  {
   "cell_type": "code",
   "execution_count": 28,
   "id": "af32073e",
   "metadata": {},
   "outputs": [],
   "source": [
    "import os\n",
    "from glob import glob\n",
    "from tqdm.notebook import tqdm\n",
    "import matplotlib.pyplot as plt\n",
    "from bert_punc import BertPunctuator, get_eval_metrics\n",
    "\n",
    "import torch\n",
    "from torch.utils.data import DataLoader\n",
    "from tqdm import tqdm\n",
    "from torch.optim import AdamW\n",
    "from torch import nn\n",
    "\n",
    "import numpy as np\n",
    "import pickle\n",
    "\n",
    "from torch.utils.data import Dataset, DataLoader\n",
    "from itertools import product\n",
    "\n",
    "def collate(batch):\n",
    "    texts, targets = zip(*batch)\n",
    "    try:\n",
    "        texts, targets = torch.stack(texts), torch.stack(targets)\n",
    "    except Exception:\n",
    "        return texts[0][None, ...], targets[0][None, ...]\n",
    "    return texts, targets\n",
    "\n",
    "def combine(pred_num, preds):\n",
    "\n",
    "    ps = []\n",
    "    for i in range(preds.shape[0]):\n",
    "        start_idx = max(0, i-2048//pred_num+1)\n",
    "        end_idx = min(preds.shape[0], i+1)\n",
    "\n",
    "        p = []\n",
    "        for j, k in enumerate(range(start_idx, end_idx)):\n",
    "            j = end_idx - start_idx - j - 1\n",
    "            p.append(preds[k][j*pred_num:(j+1)*pred_num])\n",
    "        p = np.stack(p)\n",
    "        if p.shape[0] > 2:\n",
    "            p = p[1:-1, :, :]\n",
    "            \n",
    "        ps.append(np.log(np.exp(p).mean(0)))\n",
    "    ps = np.concatenate(ps)\n",
    "    return ps\n",
    "\n",
    "device = torch.device('cuda:1')\n",
    "torch.cuda.set_device(device)\n"
   ]
  },
  {
   "cell_type": "code",
   "execution_count": null,
   "id": "cb27e5ca",
   "metadata": {},
   "outputs": [],
   "source": [
    "model = BertPunctuator()\n",
    "model.to(device)\n",
    "model.load_state_dict(torch.load('model_gdown.pt', map_location=device))"
   ]
  },
  {
   "cell_type": "code",
   "execution_count": 52,
   "id": "ca62122b",
   "metadata": {},
   "outputs": [],
   "source": [
    "def make_multi_preds(N_PREDICTIONS_FOR_TOKEN, model):\n",
    "    PREDICTION_NUM = N_PREDICTIONS_FOR_TOKEN\n",
    "    WINDOW_SHIFT = 2048 // PREDICTION_NUM\n",
    "    train, test_dataset = get_datasets(pred_len=WINDOW_SHIFT)\n",
    "    train_loader, test_loader = get_data_loaders(train, test_dataset)\n",
    "    model.eval()\n",
    "    all_test_preds = []\n",
    "\n",
    "    for data in tqdm(test_loader):\n",
    "        text, targets = data\n",
    "        with torch.no_grad():\n",
    "            preds, _ = model(text.to(device))\n",
    "\n",
    "        all_test_preds.append(preds.detach().cpu().numpy())\n",
    "\n",
    "\n",
    "    all_valid_target = test_dataset.targets\n",
    "    all_valid_preds = np.concatenate(all_test_preds)\n",
    "    print(all_valid_preds.shape)\n",
    "    ps = combine(2048 // PREDICTION_NUM, all_valid_preds)\n",
    "    _targets = np.array(all_valid_target[:ps.shape[0]])\n",
    "\n",
    "    ps = ps[_targets != -1]\n",
    "    _targets = _targets[_targets != -1]\n",
    "\n",
    "    return(get_eval_metrics(_targets, ps), ps)\n"
   ]
  },
  {
   "cell_type": "code",
   "execution_count": null,
   "id": "b102fa2e",
   "metadata": {},
   "outputs": [],
   "source": [
    "1.00           0.92           0.96\n",
    "0.85           0.96           0.90\n",
    "0.42           0.80           0.55\n",
    "0.51           0.97           0.67\n",
    "0.86           0.92           0.89\n",
    "0.35           0.52           0.42"
   ]
  },
  {
   "cell_type": "code",
   "execution_count": 54,
   "id": "d1626a94",
   "metadata": {},
   "outputs": [
    {
     "name": "stderr",
     "output_type": "stream",
     "text": [
      "100%|███████████████████████████████████████████| 41/41 [00:56<00:00,  1.37s/it]\n"
     ]
    },
    {
     "name": "stdout",
     "output_type": "stream",
     "text": [
      "(161, 2048, 6)\n",
      "              precision    recall  f1-score   support\n",
      "\n",
      "           0       1.00      0.92      0.96    253499\n",
      "           1       0.85      0.96      0.90     13355\n",
      "           2       0.42      0.80      0.55        35\n",
      "           3       0.51      0.97      0.67     20247\n",
      "           4       0.86      0.92      0.89       577\n",
      "           5       0.35      0.52      0.42       102\n",
      "\n",
      "    accuracy                           0.93    287815\n",
      "   macro avg       0.67      0.85      0.73    287815\n",
      "weighted avg       0.96      0.93      0.94    287815\n",
      "\n"
     ]
    }
   ],
   "source": [
    "rev, ps1= make_multi_preds(1, model)"
   ]
  },
  {
   "cell_type": "code",
   "execution_count": 50,
   "id": "67a8078f",
   "metadata": {},
   "outputs": [
    {
     "name": "stderr",
     "output_type": "stream",
     "text": [
      "100%|███████████████████████████████████████████| 81/81 [01:52<00:00,  1.39s/it]\n"
     ]
    },
    {
     "name": "stdout",
     "output_type": "stream",
     "text": [
      "(321, 2048, 6)\n",
      "              precision    recall  f1-score   support\n",
      "\n",
      "           0       1.00      0.92      0.96    253499\n",
      "           1       0.85      0.96      0.90     13355\n",
      "           2       0.43      0.80      0.56        35\n",
      "           3       0.52      0.97      0.67     20247\n",
      "           4       0.86      0.92      0.89       577\n",
      "           5       0.34      0.51      0.41       102\n",
      "\n",
      "    accuracy                           0.93    287815\n",
      "   macro avg       0.67      0.85      0.73    287815\n",
      "weighted avg       0.96      0.93      0.94    287815\n",
      "\n"
     ]
    },
    {
     "data": {
      "text/plain": [
       "{'cls_report': {'0': {'precision': 0.9987220856929159,\n",
       "   'recall': 0.9218024528696366,\n",
       "   'f1-score': 0.9587219010654927,\n",
       "   'support': 253499},\n",
       "  '1': {'precision': 0.8534007047403763,\n",
       "   'recall': 0.9611381505054287,\n",
       "   'f1-score': 0.9040709959149176,\n",
       "   'support': 13355},\n",
       "  '2': {'precision': 0.4307692307692308,\n",
       "   'recall': 0.8,\n",
       "   'f1-score': 0.56,\n",
       "   'support': 35},\n",
       "  '3': {'precision': 0.5156710914454278,\n",
       "   'recall': 0.9670074578949968,\n",
       "   'f1-score': 0.6726445074293567,\n",
       "   'support': 20247},\n",
       "  '4': {'precision': 0.8617886178861789,\n",
       "   'recall': 0.9185441941074524,\n",
       "   'f1-score': 0.889261744966443,\n",
       "   'support': 577},\n",
       "  '5': {'precision': 0.3443708609271523,\n",
       "   'recall': 0.5098039215686274,\n",
       "   'f1-score': 0.4110671936758893,\n",
       "   'support': 102},\n",
       "  'accuracy': 0.9266403766308219,\n",
       "  'macro avg': {'precision': 0.6674537652435469,\n",
       "   'recall': 0.8463826961576904,\n",
       "   'f1-score': 0.7326277238420166,\n",
       "   'support': 287815},\n",
       "  'weighted avg': {'precision': 0.9574221766926102,\n",
       "   'recall': 0.9266403766308219,\n",
       "   'f1-score': 0.9356794384280452,\n",
       "   'support': 287815}},\n",
       " 'precision': 0.6674537652435469,\n",
       " 'recall': 0.8463826961576904,\n",
       " 'f_score': 0.7326277238420166,\n",
       " 'auc': 0.9866021158088868}"
      ]
     },
     "execution_count": 50,
     "metadata": {},
     "output_type": "execute_result"
    }
   ],
   "source": [
    "rev, ps2 = make_multi_preds(2, model)"
   ]
  },
  {
   "cell_type": "code",
   "execution_count": null,
   "id": "6266426c",
   "metadata": {},
   "outputs": [],
   "source": [
    "1.00           0.92           0.96\n",
    "0.85           0.96           0.90\n",
    "0.43           0.80           0.56\n",
    "0.52           0.97           0.67\n",
    "0.86           0.92           0.89\n",
    "0.34           0.51           0.41"
   ]
  },
  {
   "cell_type": "code",
   "execution_count": 51,
   "id": "9752da70",
   "metadata": {},
   "outputs": [
    {
     "name": "stderr",
     "output_type": "stream",
     "text": [
      "100%|█████████████████████████████████████████| 161/161 [03:46<00:00,  1.41s/it]\n"
     ]
    },
    {
     "name": "stdout",
     "output_type": "stream",
     "text": [
      "(642, 2048, 6)\n",
      "              precision    recall  f1-score   support\n",
      "\n",
      "           0       1.00      0.92      0.96    253499\n",
      "           1       0.85      0.96      0.90     13355\n",
      "           2       0.46      0.80      0.58        35\n",
      "           3       0.52      0.97      0.67     20247\n",
      "           4       0.86      0.92      0.89       577\n",
      "           5       0.35      0.51      0.41       102\n",
      "\n",
      "    accuracy                           0.93    287815\n",
      "   macro avg       0.67      0.85      0.74    287815\n",
      "weighted avg       0.96      0.93      0.94    287815\n",
      "\n"
     ]
    },
    {
     "ename": "ValueError",
     "evalue": "too many values to unpack (expected 2)",
     "output_type": "error",
     "traceback": [
      "\u001b[0;31m---------------------------------------------------------------------------\u001b[0m",
      "\u001b[0;31mValueError\u001b[0m                                Traceback (most recent call last)",
      "\u001b[0;32m/tmp/ipykernel_1856044/355236958.py\u001b[0m in \u001b[0;36m<module>\u001b[0;34m\u001b[0m\n\u001b[0;32m----> 1\u001b[0;31m \u001b[0mrev\u001b[0m\u001b[0;34m,\u001b[0m \u001b[0mps4\u001b[0m \u001b[0;34m=\u001b[0m \u001b[0mmake_multi_preds\u001b[0m\u001b[0;34m(\u001b[0m\u001b[0;36m4\u001b[0m\u001b[0;34m,\u001b[0m \u001b[0mmodel\u001b[0m\u001b[0;34m)\u001b[0m\u001b[0;34m\u001b[0m\u001b[0;34m\u001b[0m\u001b[0m\n\u001b[0m",
      "\u001b[0;31mValueError\u001b[0m: too many values to unpack (expected 2)"
     ]
    }
   ],
   "source": [
    "rev, ps4 = make_multi_preds(4, model)"
   ]
  },
  {
   "cell_type": "code",
   "execution_count": 53,
   "id": "3ee13fb2",
   "metadata": {},
   "outputs": [
    {
     "name": "stderr",
     "output_type": "stream",
     "text": [
      "100%|█████████████████████████████████████████| 321/321 [07:28<00:00,  1.40s/it]\n"
     ]
    },
    {
     "name": "stdout",
     "output_type": "stream",
     "text": [
      "(1283, 2048, 6)\n",
      "              precision    recall  f1-score   support\n",
      "\n",
      "           0       1.00      0.92      0.96    253499\n",
      "           1       0.85      0.96      0.90     13355\n",
      "           2       0.47      0.80      0.59        35\n",
      "           3       0.52      0.97      0.67     20247\n",
      "           4       0.86      0.92      0.89       577\n",
      "           5       0.34      0.51      0.41       102\n",
      "\n",
      "    accuracy                           0.93    287815\n",
      "   macro avg       0.67      0.85      0.74    287815\n",
      "weighted avg       0.96      0.93      0.94    287815\n",
      "\n"
     ]
    }
   ],
   "source": [
    "rev, ps8 = make_multi_preds(8, model)"
   ]
  },
  {
   "cell_type": "code",
   "execution_count": 58,
   "id": "332bebab",
   "metadata": {},
   "outputs": [
    {
     "name": "stderr",
     "output_type": "stream",
     "text": [
      "100%|█████████████████████████████████████████| 642/642 [14:50<00:00,  1.39s/it]\n"
     ]
    },
    {
     "name": "stdout",
     "output_type": "stream",
     "text": [
      "(2566, 2048, 6)\n",
      "              precision    recall  f1-score   support\n",
      "\n",
      "           0       1.00      0.92      0.96    253499\n",
      "           1       0.85      0.96      0.90     13355\n",
      "           2       0.46      0.80      0.58        35\n",
      "           3       0.52      0.97      0.67     20247\n",
      "           4       0.86      0.92      0.89       577\n",
      "           5       0.34      0.51      0.41       102\n",
      "\n",
      "    accuracy                           0.93    287815\n",
      "   macro avg       0.67      0.85      0.74    287815\n",
      "weighted avg       0.96      0.93      0.94    287815\n",
      "\n"
     ]
    }
   ],
   "source": [
    "rev, ps16 = make_multi_preds(16, model)"
   ]
  },
  {
   "cell_type": "code",
   "execution_count": 59,
   "id": "cbdb475a",
   "metadata": {},
   "outputs": [
    {
     "name": "stderr",
     "output_type": "stream",
     "text": [
      "100%|███████████████████████████████████████| 1283/1283 [29:42<00:00,  1.39s/it]\n"
     ]
    },
    {
     "name": "stdout",
     "output_type": "stream",
     "text": [
      "(5132, 2048, 6)\n",
      "              precision    recall  f1-score   support\n",
      "\n",
      "           0       1.00      0.92      0.96    253499\n",
      "           1       0.85      0.96      0.90     13355\n",
      "           2       0.46      0.80      0.58        35\n",
      "           3       0.52      0.97      0.67     20247\n",
      "           4       0.86      0.92      0.89       577\n",
      "           5       0.34      0.51      0.41       102\n",
      "\n",
      "    accuracy                           0.93    287815\n",
      "   macro avg       0.67      0.85      0.74    287815\n",
      "weighted avg       0.96      0.93      0.94    287815\n",
      "\n"
     ]
    }
   ],
   "source": [
    "rev, ps32 = make_multi_preds(32, model)"
   ]
  },
  {
   "cell_type": "code",
   "execution_count": 63,
   "id": "8e3d627d",
   "metadata": {},
   "outputs": [
    {
     "name": "stderr",
     "output_type": "stream",
     "text": [
      "100%|█████████████████████████████████████| 2566/2566 [1:00:19<00:00,  1.41s/it]\n"
     ]
    },
    {
     "name": "stdout",
     "output_type": "stream",
     "text": [
      "(10264, 2048, 6)\n",
      "              precision    recall  f1-score   support\n",
      "\n",
      "           0       1.00      0.92      0.96    253499\n",
      "           1       0.85      0.96      0.90     13355\n",
      "           2       0.46      0.80      0.58        35\n",
      "           3       0.52      0.97      0.67     20247\n",
      "           4       0.86      0.92      0.89       577\n",
      "           5       0.34      0.51      0.41       102\n",
      "\n",
      "    accuracy                           0.93    287815\n",
      "   macro avg       0.67      0.85      0.74    287815\n",
      "weighted avg       0.96      0.93      0.94    287815\n",
      "\n"
     ]
    }
   ],
   "source": [
    "rev, ps64 = make_multi_preds(64, model)"
   ]
  },
  {
   "cell_type": "code",
   "execution_count": 64,
   "id": "9baabb0e",
   "metadata": {},
   "outputs": [
    {
     "data": {
      "text/plain": [
       "{'cls_report': {'0': {'precision': 0.998709280359692,\n",
       "   'recall': 0.9218024528696366,\n",
       "   'f1-score': 0.9587160009600453,\n",
       "   'support': 253499},\n",
       "  '1': {'precision': 0.853316496078692,\n",
       "   'recall': 0.9613627854736054,\n",
       "   'f1-score': 0.9041230942572445,\n",
       "   'support': 13355},\n",
       "  '2': {'precision': 0.45901639344262296,\n",
       "   'recall': 0.8,\n",
       "   'f1-score': 0.5833333333333334,\n",
       "   'support': 35},\n",
       "  '3': {'precision': 0.5156608097784569,\n",
       "   'recall': 0.9668098977626315,\n",
       "   'f1-score': 0.672587960417812,\n",
       "   'support': 20247},\n",
       "  '4': {'precision': 0.8603896103896104,\n",
       "   'recall': 0.9185441941074524,\n",
       "   'f1-score': 0.8885163453478626,\n",
       "   'support': 577},\n",
       "  '5': {'precision': 0.33986928104575165,\n",
       "   'recall': 0.5098039215686274,\n",
       "   'f1-score': 0.407843137254902,\n",
       "   'support': 102},\n",
       "  'accuracy': 0.9266369021767454,\n",
       "  'macro avg': {'precision': 0.6711603118491376,\n",
       "   'recall': 0.8463872086303255,\n",
       "   'f1-score': 0.7358533119285333,\n",
       "   'support': 287815},\n",
       "  'weighted avg': {'precision': 0.9574053024625153,\n",
       "   'recall': 0.9266369021767454,\n",
       "   'f1-score': 0.9356728818292577,\n",
       "   'support': 287815}},\n",
       " 'precision': 0.6711603118491376,\n",
       " 'recall': 0.8463872086303255,\n",
       " 'f_score': 0.7358533119285333,\n",
       " 'auc': 0.9865134359910209}"
      ]
     },
     "execution_count": 64,
     "metadata": {},
     "output_type": "execute_result"
    }
   ],
   "source": [
    "rev"
   ]
  },
  {
   "cell_type": "code",
   "execution_count": 61,
   "id": "9228fa55",
   "metadata": {},
   "outputs": [
    {
     "data": {
      "text/plain": [
       "(array([-0.06916147, -7.937645  , -9.8527    , -2.714312  , -9.3552475 ,\n",
       "        -9.466344  ], dtype=float32),\n",
       " array([-0.11192638, -5.9801354 , -7.689894  , -2.278664  , -8.919961  ,\n",
       "        -7.959797  ], dtype=float32),\n",
       " array([-7.3791533e-03, -9.3142328e+00, -1.0746041e+01, -4.9413085e+00,\n",
       "        -9.5344534e+00, -1.0690517e+01], dtype=float32))"
      ]
     },
     "execution_count": 61,
     "metadata": {},
     "output_type": "execute_result"
    }
   ],
   "source": [
    "ps16[0], ps32[0], ps1[0]"
   ]
  },
  {
   "cell_type": "code",
   "execution_count": null,
   "id": "2fd2d901",
   "metadata": {},
   "outputs": [],
   "source": []
  },
  {
   "cell_type": "code",
   "execution_count": null,
   "id": "f260890a",
   "metadata": {},
   "outputs": [],
   "source": []
  },
  {
   "cell_type": "code",
   "execution_count": null,
   "id": "32b5e502",
   "metadata": {},
   "outputs": [],
   "source": []
  }
 ],
 "metadata": {
  "kernelspec": {
   "display_name": "Python 3 (ipykernel)",
   "language": "python",
   "name": "python3"
  },
  "language_info": {
   "codemirror_mode": {
    "name": "ipython",
    "version": 3
   },
   "file_extension": ".py",
   "mimetype": "text/x-python",
   "name": "python",
   "nbconvert_exporter": "python",
   "pygments_lexer": "ipython3",
   "version": "3.9.7"
  }
 },
 "nbformat": 4,
 "nbformat_minor": 5
}
