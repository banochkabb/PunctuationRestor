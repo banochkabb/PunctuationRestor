{
 "cells": [
  {
   "cell_type": "code",
   "execution_count": null,
   "id": "fda1f74a",
   "metadata": {},
   "outputs": [],
   "source": [
    "from bert import BertPunctuator\n",
    "\n",
    "device = 'cpu'\n",
    "model = BertPunctuator().to(device)\n",
    "model.load_state_dict(torch.load('model_state_dict.pt', map_location=device))"
   ]
  },
  {
   "cell_type": "code",
   "execution_count": null,
   "id": "af0b2de9",
   "metadata": {},
   "outputs": [],
   "source": [
    "def get_punctuation(text, make_paragraphs = True, short_sentenses = False):\n",
    "    with torch.no_grad():\n",
    "        preds, _ = model(text.to(device))\n",
    "    if make_paragra\n",
    "    preds = np.exp(preds)\n",
    "    preds = preds.reshape(-1, 5)\n",
    "    print(preds)\n",
    "    pred_index = preds.argmax(-1)\n",
    "    return pred_index\n",
    "\n"
   ]
  },
  {
   "cell_type": "code",
   "execution_count": null,
   "id": "4c4d371e",
   "metadata": {},
   "outputs": [],
   "source": [
    "text = "
   ]
  }
 ],
 "metadata": {
  "kernelspec": {
   "display_name": "Python 3 (ipykernel)",
   "language": "python",
   "name": "python3"
  },
  "language_info": {
   "codemirror_mode": {
    "name": "ipython",
    "version": 3
   },
   "file_extension": ".py",
   "mimetype": "text/x-python",
   "name": "python",
   "nbconvert_exporter": "python",
   "pygments_lexer": "ipython3",
   "version": "3.9.7"
  }
 },
 "nbformat": 4,
 "nbformat_minor": 5
}
